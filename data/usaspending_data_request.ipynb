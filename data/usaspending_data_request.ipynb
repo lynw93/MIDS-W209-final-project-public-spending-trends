{
 "cells": [
  {
   "cell_type": "code",
   "execution_count": 1,
   "id": "3251c7f3-6a72-485b-9e71-8f27cdb04da5",
   "metadata": {},
   "outputs": [],
   "source": [
    "import requests"
   ]
  },
  {
   "cell_type": "code",
   "execution_count": 93,
   "id": "c133b123-39f3-45ed-87f1-c6b8158622c9",
   "metadata": {},
   "outputs": [],
   "source": [
    "## This will pull total spending by budget function for a specific quarter\n",
    "## Data source: https://www.usaspending.gov/explorer/budget_function\n",
    "\n",
    "# content = {\"type\":\"budget_function\",\"filters\":{\"fy\":\"2024\", \"quarter\":\"1\"}}\n",
    "# resp = requests.post(\"https://api.usaspending.gov/api/v2/spending/\", json=content)\n",
    "# resp.status_code\n",
    "# r = resp.json()"
   ]
  },
  {
   "cell_type": "code",
   "execution_count": 85,
   "id": "65254357-50ab-425c-a933-69194f3a1338",
   "metadata": {},
   "outputs": [
    {
     "name": "stdout",
     "output_type": "stream",
     "text": [
      "2018Q1  done\n",
      "2018Q2  done\n",
      "2018Q3  done\n",
      "2018Q4  done\n",
      "2019Q1  done\n",
      "2019Q2  done\n",
      "2019Q3  done\n",
      "2019Q4  done\n",
      "2020Q1  done\n",
      "2020Q2  done\n",
      "2020Q3  done\n",
      "2020Q4  done\n",
      "2021Q1  done\n",
      "2021Q2  done\n",
      "2021Q3  done\n",
      "2021Q4  done\n",
      "2022Q1  done\n",
      "2022Q2  done\n",
      "2022Q3  done\n",
      "2022Q4  done\n",
      "2023Q1  done\n",
      "2023Q2  done\n",
      "2023Q3  done\n",
      "2023Q4  done\n",
      "2024Q1  done\n",
      "2024Q2  done\n",
      "2024Q3  done\n",
      "2024Q4  done\n"
     ]
    }
   ],
   "source": [
    "new_dict = {}\n",
    "\n",
    "for year in range(2018, 2024): # Data starts from Q2 2017\n",
    "    for q in range(1, 5):\n",
    "        content = {\"type\":\"budget_function\",\"filters\":{\"fy\":year, \"quarter\":q}}\n",
    "        resp = requests.post(\"https://api.usaspending.gov/api/v2/spending/\", json=content)\n",
    "        r = resp.json()\n",
    "        new_dict.update({str(year) + \"Q\" + str(q):r['results']})\n",
    "        print (str(year) + \"Q\" + str(q), \" done\")"
   ]
  },
  {
   "cell_type": "code",
   "execution_count": 92,
   "id": "08f4db6a-74cc-473c-98de-dd4d38f71516",
   "metadata": {},
   "outputs": [],
   "source": [
    "import json\n",
    "\n",
    "with open(\"budget_by_function.json\", \"w\") as file:\n",
    "    json.dump(new_dict, file, indent=4)"
   ]
  },
  {
   "cell_type": "code",
   "execution_count": null,
   "id": "547b8b57-8074-4600-a3a7-ebc2db3908a3",
   "metadata": {},
   "outputs": [],
   "source": []
  },
  {
   "cell_type": "code",
   "execution_count": null,
   "id": "6a76d2f5-0679-4432-b5f5-6017513e269a",
   "metadata": {},
   "outputs": [],
   "source": []
  }
 ],
 "metadata": {
  "kernelspec": {
   "display_name": "Python 3",
   "language": "python",
   "name": "python3"
  },
  "language_info": {
   "codemirror_mode": {
    "name": "ipython",
    "version": 3
   },
   "file_extension": ".py",
   "mimetype": "text/x-python",
   "name": "python",
   "nbconvert_exporter": "python",
   "pygments_lexer": "ipython3",
   "version": "3.12.2"
  }
 },
 "nbformat": 4,
 "nbformat_minor": 5
}
